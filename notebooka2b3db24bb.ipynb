{
  "metadata": {
    "kernelspec": {
      "language": "python",
      "display_name": "Python 3",
      "name": "python3"
    },
    "language_info": {
      "name": "python",
      "version": "3.10.13",
      "mimetype": "text/x-python",
      "codemirror_mode": {
        "name": "ipython",
        "version": 3
      },
      "pygments_lexer": "ipython3",
      "nbconvert_exporter": "python",
      "file_extension": ".py"
    },
    "kaggle": {
      "accelerator": "gpu",
      "dataSources": [
        {
          "sourceId": 8532117,
          "sourceType": "datasetVersion",
          "datasetId": 5095892
        }
      ],
      "dockerImageVersionId": 30699,
      "isInternetEnabled": true,
      "language": "python",
      "sourceType": "notebook",
      "isGpuEnabled": true
    },
    "colab": {
      "name": "notebooka2b3db24bb",
      "provenance": []
    }
  },
  "nbformat_minor": 0,
  "nbformat": 4,
  "cells": [
    {
      "source": [
        "\n",
        "# IMPORTANT: RUN THIS CELL IN ORDER TO IMPORT YOUR KAGGLE DATA SOURCES\n",
        "# TO THE CORRECT LOCATION (/kaggle/input) IN YOUR NOTEBOOK,\n",
        "# THEN FEEL FREE TO DELETE THIS CELL.\n",
        "# NOTE: THIS NOTEBOOK ENVIRONMENT DIFFERS FROM KAGGLE'S PYTHON\n",
        "# ENVIRONMENT SO THERE MAY BE MISSING LIBRARIES USED BY YOUR\n",
        "# NOTEBOOK.\n",
        "\n",
        "import os\n",
        "import sys\n",
        "from tempfile import NamedTemporaryFile\n",
        "from urllib.request import urlopen\n",
        "from urllib.parse import unquote, urlparse\n",
        "from urllib.error import HTTPError\n",
        "from zipfile import ZipFile\n",
        "import tarfile\n",
        "import shutil\n",
        "\n",
        "CHUNK_SIZE = 40960\n",
        "DATA_SOURCE_MAPPING = 'bankdata:https%3A%2F%2Fstorage.googleapis.com%2Fkaggle-data-sets%2F5095892%2F8532117%2Fbundle%2Farchive.zip%3FX-Goog-Algorithm%3DGOOG4-RSA-SHA256%26X-Goog-Credential%3Dgcp-kaggle-com%2540kaggle-161607.iam.gserviceaccount.com%252F20240527%252Fauto%252Fstorage%252Fgoog4_request%26X-Goog-Date%3D20240527T151529Z%26X-Goog-Expires%3D259200%26X-Goog-SignedHeaders%3Dhost%26X-Goog-Signature%3D61802faeb67c208eb065a30db06270b6564344012d2c60fc7bb8eb2934107391a7169b66ddd80d1c3ba46838dcb97aebd93ba289ec25c50375d5d31bb4e0c7b64b49c0c6aecf88ccb76fb06d045656b563a23fcb692268266207324050563e79da2ab7916db1c4b66953388053d4979db6941c74426ff0bf8a829cad17995af04d8aa69af8d1de62a3a8721b32fcdda26e616045575bc8eb046229b35240977bd6ab9fb4c8dfc56c0da6c0c79000ac0e873d0b98e41ef371fd54a9c9bbbf27462979082d52516f8917a9f5e4090386e45c83db0ef3df8adb69450636a76535fdb6bb15354a142d5cff3ca562c91a99023c8fe2fc0c661844aafff5b9f6549672'\n",
        "\n",
        "KAGGLE_INPUT_PATH='/kaggle/input'\n",
        "KAGGLE_WORKING_PATH='/kaggle/working'\n",
        "KAGGLE_SYMLINK='kaggle'\n",
        "\n",
        "!umount /kaggle/input/ 2> /dev/null\n",
        "shutil.rmtree('/kaggle/input', ignore_errors=True)\n",
        "os.makedirs(KAGGLE_INPUT_PATH, 0o777, exist_ok=True)\n",
        "os.makedirs(KAGGLE_WORKING_PATH, 0o777, exist_ok=True)\n",
        "\n",
        "try:\n",
        "  os.symlink(KAGGLE_INPUT_PATH, os.path.join(\"..\", 'input'), target_is_directory=True)\n",
        "except FileExistsError:\n",
        "  pass\n",
        "try:\n",
        "  os.symlink(KAGGLE_WORKING_PATH, os.path.join(\"..\", 'working'), target_is_directory=True)\n",
        "except FileExistsError:\n",
        "  pass\n",
        "\n",
        "for data_source_mapping in DATA_SOURCE_MAPPING.split(','):\n",
        "    directory, download_url_encoded = data_source_mapping.split(':')\n",
        "    download_url = unquote(download_url_encoded)\n",
        "    filename = urlparse(download_url).path\n",
        "    destination_path = os.path.join(KAGGLE_INPUT_PATH, directory)\n",
        "    try:\n",
        "        with urlopen(download_url) as fileres, NamedTemporaryFile() as tfile:\n",
        "            total_length = fileres.headers['content-length']\n",
        "            print(f'Downloading {directory}, {total_length} bytes compressed')\n",
        "            dl = 0\n",
        "            data = fileres.read(CHUNK_SIZE)\n",
        "            while len(data) > 0:\n",
        "                dl += len(data)\n",
        "                tfile.write(data)\n",
        "                done = int(50 * dl / int(total_length))\n",
        "                sys.stdout.write(f\"\\r[{'=' * done}{' ' * (50-done)}] {dl} bytes downloaded\")\n",
        "                sys.stdout.flush()\n",
        "                data = fileres.read(CHUNK_SIZE)\n",
        "            if filename.endswith('.zip'):\n",
        "              with ZipFile(tfile) as zfile:\n",
        "                zfile.extractall(destination_path)\n",
        "            else:\n",
        "              with tarfile.open(tfile.name) as tarfile:\n",
        "                tarfile.extractall(destination_path)\n",
        "            print(f'\\nDownloaded and uncompressed: {directory}')\n",
        "    except HTTPError as e:\n",
        "        print(f'Failed to load (likely expired) {download_url} to path {destination_path}')\n",
        "        continue\n",
        "    except OSError as e:\n",
        "        print(f'Failed to load {download_url} to path {destination_path}')\n",
        "        continue\n",
        "\n",
        "print('Data source import complete.')\n"
      ],
      "metadata": {
        "id": "1Dg0zWWwnv2b"
      },
      "cell_type": "code",
      "outputs": [],
      "execution_count": null
    },
    {
      "cell_type": "code",
      "source": [
        "# This Python 3 environment comes with many helpful analytics libraries installed\n",
        "# It is defined by the kaggle/python Docker image: https://github.com/kaggle/docker-python\n",
        "# For example, here's several helpful packages to load\n",
        "\n",
        "import numpy as np # linear algebra\n",
        "import pandas as pd # data processing, CSV file I/O (e.g. pd.read_csv)\n",
        "\n",
        "# Input data files are available in the read-only \"../input/\" directory\n",
        "# For example, running this (by clicking run or pressing Shift+Enter) will list all files under the input directory\n",
        "\n",
        "import os\n",
        "for dirname, _, filenames in os.walk('/kaggle/input'):\n",
        "    for filename in filenames:\n",
        "        print(os.path.join(dirname, filename))\n",
        "\n",
        "# You can write up to 20GB to the current directory (/kaggle/working/) that gets preserved as output when you create a version using \"Save & Run All\"\n",
        "# You can also write temporary files to /kaggle/temp/, but they won't be saved outside of the current session"
      ],
      "metadata": {
        "_uuid": "8f2839f25d086af736a60e9eeb907d3b93b6e0e5",
        "_cell_guid": "b1076dfc-b9ad-4769-8c92-a6c4dae69d19",
        "execution": {
          "iopub.status.busy": "2024-05-27T15:11:56.847588Z",
          "iopub.execute_input": "2024-05-27T15:11:56.847904Z",
          "iopub.status.idle": "2024-05-27T15:11:57.660692Z",
          "shell.execute_reply.started": "2024-05-27T15:11:56.847878Z",
          "shell.execute_reply": "2024-05-27T15:11:57.659804Z"
        },
        "trusted": true,
        "id": "5sftqYkFnv2h",
        "outputId": "a1f0aea0-37dd-4542-bc37-9525fa605619"
      },
      "execution_count": null,
      "outputs": [
        {
          "name": "stdout",
          "text": "/kaggle/input/bankdata/bank-additional-full.csv\n",
          "output_type": "stream"
        }
      ]
    },
    {
      "cell_type": "code",
      "source": [
        "import pandas as pd\n",
        "from sklearn.model_selection import train_test_split\n",
        "from sklearn.tree import DecisionTreeClassifier, plot_tree\n",
        "from sklearn.metrics import accuracy_score, classification_report, confusion_matrix\n",
        "import matplotlib.pyplot as plt"
      ],
      "metadata": {
        "execution": {
          "iopub.status.busy": "2024-05-27T15:11:57.662626Z",
          "iopub.execute_input": "2024-05-27T15:11:57.663Z",
          "iopub.status.idle": "2024-05-27T15:11:58.84008Z",
          "shell.execute_reply.started": "2024-05-27T15:11:57.662974Z",
          "shell.execute_reply": "2024-05-27T15:11:58.839171Z"
        },
        "trusted": true,
        "id": "69JGctYGnv2j"
      },
      "execution_count": null,
      "outputs": []
    },
    {
      "cell_type": "code",
      "source": [
        "# Load the dataset\n",
        "file_path = '/kaggle/input/bankdata/bank-additional-full.csv'\n",
        "data = pd.read_csv(file_path)\n",
        "\n",
        "# Check for missing values\n",
        "print(data.isnull().sum())\n"
      ],
      "metadata": {
        "execution": {
          "iopub.status.busy": "2024-05-27T15:11:58.841272Z",
          "iopub.execute_input": "2024-05-27T15:11:58.841634Z",
          "iopub.status.idle": "2024-05-27T15:11:58.999583Z",
          "shell.execute_reply.started": "2024-05-27T15:11:58.841601Z",
          "shell.execute_reply": "2024-05-27T15:11:58.998606Z"
        },
        "trusted": true,
        "id": "RY1m2fd5nv2j",
        "outputId": "a095f75f-e96e-41ae-8b0a-b6cf36ab1f5b"
      },
      "execution_count": null,
      "outputs": [
        {
          "name": "stdout",
          "text": "age;\"job\";\"marital\";\"education\";\"default\";\"housing\";\"loan\";\"contact\";\"month\";\"day_of_week\";\"duration\";\"campaign\";\"pdays\";\"previous\";\"poutcome\";\"emp.var.rate\";\"cons.price.idx\";\"cons.conf.idx\";\"euribor3m\";\"nr.employed\";\"y\"    0\ndtype: int64\n",
          "output_type": "stream"
        }
      ]
    },
    {
      "cell_type": "code",
      "source": [
        "# Perform one-hot encoding for categorical variables\n",
        "data_encoded = pd.get_dummies(data, drop_first=True)\n",
        "\n",
        "# Obtain the column names after one-hot encoding\n",
        "column_names = data_encoded.columns\n",
        "\n",
        "print(column_names)"
      ],
      "metadata": {
        "execution": {
          "iopub.status.busy": "2024-05-27T15:11:59.000889Z",
          "iopub.execute_input": "2024-05-27T15:11:59.001724Z",
          "iopub.status.idle": "2024-05-27T15:12:00.315771Z",
          "shell.execute_reply.started": "2024-05-27T15:11:59.001693Z",
          "shell.execute_reply": "2024-05-27T15:12:00.314842Z"
        },
        "trusted": true,
        "id": "2Rf0NGvZnv2k",
        "outputId": "2a7c3be4-b99d-4cd1-b80a-805a861e5b90"
      },
      "execution_count": null,
      "outputs": [
        {
          "name": "stdout",
          "text": "Index(['age;\"job\";\"marital\";\"education\";\"default\";\"housing\";\"loan\";\"contact\";\"month\";\"day_of_week\";\"duration\";\"campaign\";\"pdays\";\"previous\";\"poutcome\";\"emp.var.rate\";\"cons.price.idx\";\"cons.conf.idx\";\"euribor3m\";\"nr.employed\";\"y\"_17;\"student\";\"single\";\"basic.9y\";\"no\";\"yes\";\"no\";\"cellular\";\"aug\";\"fri\";182;2;999;2;\"failure\";-2.9;92.201;-31.4;0.869;5076.2;\"no\"',\n       'age;\"job\";\"marital\";\"education\";\"default\";\"housing\";\"loan\";\"contact\";\"month\";\"day_of_week\";\"duration\";\"campaign\";\"pdays\";\"previous\";\"poutcome\";\"emp.var.rate\";\"cons.price.idx\";\"cons.conf.idx\";\"euribor3m\";\"nr.employed\";\"y\"_17;\"student\";\"single\";\"basic.9y\";\"no\";\"yes\";\"no\";\"cellular\";\"aug\";\"fri\";92;3;4;2;\"success\";-2.9;92.201;-31.4;0.869;5076.2;\"no\"',\n       'age;\"job\";\"marital\";\"education\";\"default\";\"housing\";\"loan\";\"contact\";\"month\";\"day_of_week\";\"duration\";\"campaign\";\"pdays\";\"previous\";\"poutcome\";\"emp.var.rate\";\"cons.price.idx\";\"cons.conf.idx\";\"euribor3m\";\"nr.employed\";\"y\"_17;\"student\";\"single\";\"unknown\";\"no\";\"no\";\"yes\";\"cellular\";\"oct\";\"tue\";896;1;2;2;\"success\";-3.4;92.431;-26.9;0.742;5017.5;\"yes\"',\n       'age;\"job\";\"marital\";\"education\";\"default\";\"housing\";\"loan\";\"contact\";\"month\";\"day_of_week\";\"duration\";\"campaign\";\"pdays\";\"previous\";\"poutcome\";\"emp.var.rate\";\"cons.price.idx\";\"cons.conf.idx\";\"euribor3m\";\"nr.employed\";\"y\"_17;\"student\";\"single\";\"unknown\";\"no\";\"yes\";\"no\";\"cellular\";\"aug\";\"wed\";432;3;4;2;\"success\";-2.9;92.201;-31.4;0.884;5076.2;\"no\"',\n       'age;\"job\";\"marital\";\"education\";\"default\";\"housing\";\"loan\";\"contact\";\"month\";\"day_of_week\";\"duration\";\"campaign\";\"pdays\";\"previous\";\"poutcome\";\"emp.var.rate\";\"cons.price.idx\";\"cons.conf.idx\";\"euribor3m\";\"nr.employed\";\"y\"_18;\"student\";\"single\";\"basic.4y\";\"no\";\"no\";\"no\";\"cellular\";\"apr\";\"thu\";108;1;999;0;\"nonexistent\";-1.8;93.075;-47.1;1.365;5099.1;\"no\"',\n       'age;\"job\";\"marital\";\"education\";\"default\";\"housing\";\"loan\";\"contact\";\"month\";\"day_of_week\";\"duration\";\"campaign\";\"pdays\";\"previous\";\"poutcome\";\"emp.var.rate\";\"cons.price.idx\";\"cons.conf.idx\";\"euribor3m\";\"nr.employed\";\"y\"_18;\"student\";\"single\";\"basic.4y\";\"no\";\"yes\";\"no\";\"cellular\";\"jun\";\"tue\";154;1;999;0;\"nonexistent\";-1.7;94.055;-39.8;0.737;4991.6;\"no\"',\n       'age;\"job\";\"marital\";\"education\";\"default\";\"housing\";\"loan\";\"contact\";\"month\";\"day_of_week\";\"duration\";\"campaign\";\"pdays\";\"previous\";\"poutcome\";\"emp.var.rate\";\"cons.price.idx\";\"cons.conf.idx\";\"euribor3m\";\"nr.employed\";\"y\"_18;\"student\";\"single\";\"basic.4y\";\"no\";\"yes\";\"no\";\"telephone\";\"nov\";\"tue\";394;1;13;2;\"success\";-1.1;94.767;-50.8;1.049;4963.6;\"yes\"',\n       'age;\"job\";\"marital\";\"education\";\"default\";\"housing\";\"loan\";\"contact\";\"month\";\"day_of_week\";\"duration\";\"campaign\";\"pdays\";\"previous\";\"poutcome\";\"emp.var.rate\";\"cons.price.idx\";\"cons.conf.idx\";\"euribor3m\";\"nr.employed\";\"y\"_18;\"student\";\"single\";\"basic.4y\";\"no\";\"yes\";\"yes\";\"cellular\";\"apr\";\"thu\";184;2;999;0;\"nonexistent\";-1.8;93.075;-47.1;1.365;5099.1;\"no\"',\n       'age;\"job\";\"marital\";\"education\";\"default\";\"housing\";\"loan\";\"contact\";\"month\";\"day_of_week\";\"duration\";\"campaign\";\"pdays\";\"previous\";\"poutcome\";\"emp.var.rate\";\"cons.price.idx\";\"cons.conf.idx\";\"euribor3m\";\"nr.employed\";\"y\"_18;\"student\";\"single\";\"basic.6y\";\"no\";\"no\";\"yes\";\"cellular\";\"oct\";\"fri\";368;2;999;0;\"nonexistent\";-3.4;92.431;-26.9;0.72;5017.5;\"yes\"',\n       'age;\"job\";\"marital\";\"education\";\"default\";\"housing\";\"loan\";\"contact\";\"month\";\"day_of_week\";\"duration\";\"campaign\";\"pdays\";\"previous\";\"poutcome\";\"emp.var.rate\";\"cons.price.idx\";\"cons.conf.idx\";\"euribor3m\";\"nr.employed\";\"y\"_18;\"student\";\"single\";\"basic.6y\";\"no\";\"yes\";\"no\";\"cellular\";\"aug\";\"mon\";628;1;999;0;\"nonexistent\";-2.9;92.201;-31.4;0.861;5076.2;\"no\"',\n       ...\n       'age;\"job\";\"marital\";\"education\";\"default\";\"housing\";\"loan\";\"contact\";\"month\";\"day_of_week\";\"duration\";\"campaign\";\"pdays\";\"previous\";\"poutcome\";\"emp.var.rate\";\"cons.price.idx\";\"cons.conf.idx\";\"euribor3m\";\"nr.employed\";\"y\"_91;\"retired\";\"married\";\"university.degree\";\"no\";\"no\";\"yes\";\"cellular\";\"sep\";\"wed\";223;2;999;0;\"nonexistent\";-3.4;92.379;-29.8;0.781;5017.5;\"no\"',\n       'age;\"job\";\"marital\";\"education\";\"default\";\"housing\";\"loan\";\"contact\";\"month\";\"day_of_week\";\"duration\";\"campaign\";\"pdays\";\"previous\";\"poutcome\";\"emp.var.rate\";\"cons.price.idx\";\"cons.conf.idx\";\"euribor3m\";\"nr.employed\";\"y\"_91;\"retired\";\"married\";\"university.degree\";\"no\";\"yes\";\"yes\";\"cellular\";\"sep\";\"wed\";837;1;999;2;\"failure\";-3.4;92.379;-29.8;0.781;5017.5;\"no\"',\n       'age;\"job\";\"marital\";\"education\";\"default\";\"housing\";\"loan\";\"contact\";\"month\";\"day_of_week\";\"duration\";\"campaign\";\"pdays\";\"previous\";\"poutcome\";\"emp.var.rate\";\"cons.price.idx\";\"cons.conf.idx\";\"euribor3m\";\"nr.employed\";\"y\"_92;\"retired\";\"divorced\";\"unknown\";\"unknown\";\"no\";\"no\";\"cellular\";\"may\";\"wed\";405;3;999;1;\"failure\";-1.8;93.876;-40;0.697;5008.7;\"yes\"',\n       'age;\"job\";\"marital\";\"education\";\"default\";\"housing\";\"loan\";\"contact\";\"month\";\"day_of_week\";\"duration\";\"campaign\";\"pdays\";\"previous\";\"poutcome\";\"emp.var.rate\";\"cons.price.idx\";\"cons.conf.idx\";\"euribor3m\";\"nr.employed\";\"y\"_92;\"retired\";\"married\";\"unknown\";\"no\";\"no\";\"yes\";\"cellular\";\"aug\";\"tue\";1064;1;3;1;\"success\";-1.7;94.027;-38.3;0.904;4991.6;\"yes\"',\n       'age;\"job\";\"marital\";\"education\";\"default\";\"housing\";\"loan\";\"contact\";\"month\";\"day_of_week\";\"duration\";\"campaign\";\"pdays\";\"previous\";\"poutcome\";\"emp.var.rate\";\"cons.price.idx\";\"cons.conf.idx\";\"euribor3m\";\"nr.employed\";\"y\"_92;\"retired\";\"married\";\"unknown\";\"no\";\"no\";\"yes\";\"cellular\";\"aug\";\"wed\";370;1;3;4;\"success\";-1.7;94.027;-38.3;0.903;4991.6;\"yes\"',\n       'age;\"job\";\"marital\";\"education\";\"default\";\"housing\";\"loan\";\"contact\";\"month\";\"day_of_week\";\"duration\";\"campaign\";\"pdays\";\"previous\";\"poutcome\";\"emp.var.rate\";\"cons.price.idx\";\"cons.conf.idx\";\"euribor3m\";\"nr.employed\";\"y\"_92;\"retired\";\"married\";\"unknown\";\"no\";\"yes\";\"no\";\"cellular\";\"may\";\"thu\";271;1;6;2;\"success\";-1.8;93.876;-40;0.683;5008.7;\"no\"',\n       'age;\"job\";\"marital\";\"education\";\"default\";\"housing\";\"loan\";\"contact\";\"month\";\"day_of_week\";\"duration\";\"campaign\";\"pdays\";\"previous\";\"poutcome\";\"emp.var.rate\";\"cons.price.idx\";\"cons.conf.idx\";\"euribor3m\";\"nr.employed\";\"y\"_94;\"retired\";\"married\";\"basic.9y\";\"no\";\"no\";\"no\";\"cellular\";\"nov\";\"wed\";134;1;999;1;\"failure\";-3.4;92.649;-30.1;0.716;5017.5;\"no\"',\n       'age;\"job\";\"marital\";\"education\";\"default\";\"housing\";\"loan\";\"contact\";\"month\";\"day_of_week\";\"duration\";\"campaign\";\"pdays\";\"previous\";\"poutcome\";\"emp.var.rate\";\"cons.price.idx\";\"cons.conf.idx\";\"euribor3m\";\"nr.employed\";\"y\"_95;\"retired\";\"divorced\";\"basic.6y\";\"no\";\"no\";\"no\";\"cellular\";\"mar\";\"thu\";85;1;999;0;\"nonexistent\";-1.8;92.843;-50;1.65;5099.1;\"no\"',\n       'age;\"job\";\"marital\";\"education\";\"default\";\"housing\";\"loan\";\"contact\";\"month\";\"day_of_week\";\"duration\";\"campaign\";\"pdays\";\"previous\";\"poutcome\";\"emp.var.rate\";\"cons.price.idx\";\"cons.conf.idx\";\"euribor3m\";\"nr.employed\";\"y\"_98;\"retired\";\"married\";\"basic.4y\";\"unknown\";\"yes\";\"no\";\"cellular\";\"oct\";\"fri\";272;2;999;0;\"nonexistent\";-3.4;92.431;-26.9;0.73;5017.5;\"yes\"',\n       'age;\"job\";\"marital\";\"education\";\"default\";\"housing\";\"loan\";\"contact\";\"month\";\"day_of_week\";\"duration\";\"campaign\";\"pdays\";\"previous\";\"poutcome\";\"emp.var.rate\";\"cons.price.idx\";\"cons.conf.idx\";\"euribor3m\";\"nr.employed\";\"y\"_98;\"retired\";\"married\";\"basic.4y\";\"unknown\";\"yes\";\"no\";\"cellular\";\"oct\";\"fri\";476;1;2;2;\"success\";-3.4;92.431;-26.9;0.73;5017.5;\"yes\"'],\n      dtype='object', length=41175)\n",
          "output_type": "stream"
        }
      ]
    },
    {
      "cell_type": "code",
      "source": [
        "# Split each column name by semicolon and extract the last element as the actual column name\n",
        "column_names = [col.split(';')[-1] for col in column_names]\n",
        "\n",
        "# Remove any leading or trailing whitespaces from column names\n",
        "column_names = [col.strip() for col in column_names]\n"
      ],
      "metadata": {
        "execution": {
          "iopub.status.busy": "2024-05-27T15:12:00.317864Z",
          "iopub.execute_input": "2024-05-27T15:12:00.31817Z",
          "iopub.status.idle": "2024-05-27T15:12:00.492967Z",
          "shell.execute_reply.started": "2024-05-27T15:12:00.318141Z",
          "shell.execute_reply": "2024-05-27T15:12:00.491826Z"
        },
        "trusted": true,
        "id": "Wz2za8KMnv2k"
      },
      "execution_count": null,
      "outputs": []
    },
    {
      "cell_type": "code",
      "source": [
        "print(data_encoded.columns)\n"
      ],
      "metadata": {
        "execution": {
          "iopub.status.busy": "2024-05-27T15:12:00.494084Z",
          "iopub.execute_input": "2024-05-27T15:12:00.494458Z",
          "iopub.status.idle": "2024-05-27T15:12:00.502423Z",
          "shell.execute_reply.started": "2024-05-27T15:12:00.494425Z",
          "shell.execute_reply": "2024-05-27T15:12:00.501285Z"
        },
        "trusted": true,
        "id": "-A_7S-8vnv2l",
        "outputId": "d98d6838-5516-47be-9cb5-4b8ee2ae7f70"
      },
      "execution_count": null,
      "outputs": [
        {
          "name": "stdout",
          "text": "Index(['age;\"job\";\"marital\";\"education\";\"default\";\"housing\";\"loan\";\"contact\";\"month\";\"day_of_week\";\"duration\";\"campaign\";\"pdays\";\"previous\";\"poutcome\";\"emp.var.rate\";\"cons.price.idx\";\"cons.conf.idx\";\"euribor3m\";\"nr.employed\";\"y\"_17;\"student\";\"single\";\"basic.9y\";\"no\";\"yes\";\"no\";\"cellular\";\"aug\";\"fri\";182;2;999;2;\"failure\";-2.9;92.201;-31.4;0.869;5076.2;\"no\"',\n       'age;\"job\";\"marital\";\"education\";\"default\";\"housing\";\"loan\";\"contact\";\"month\";\"day_of_week\";\"duration\";\"campaign\";\"pdays\";\"previous\";\"poutcome\";\"emp.var.rate\";\"cons.price.idx\";\"cons.conf.idx\";\"euribor3m\";\"nr.employed\";\"y\"_17;\"student\";\"single\";\"basic.9y\";\"no\";\"yes\";\"no\";\"cellular\";\"aug\";\"fri\";92;3;4;2;\"success\";-2.9;92.201;-31.4;0.869;5076.2;\"no\"',\n       'age;\"job\";\"marital\";\"education\";\"default\";\"housing\";\"loan\";\"contact\";\"month\";\"day_of_week\";\"duration\";\"campaign\";\"pdays\";\"previous\";\"poutcome\";\"emp.var.rate\";\"cons.price.idx\";\"cons.conf.idx\";\"euribor3m\";\"nr.employed\";\"y\"_17;\"student\";\"single\";\"unknown\";\"no\";\"no\";\"yes\";\"cellular\";\"oct\";\"tue\";896;1;2;2;\"success\";-3.4;92.431;-26.9;0.742;5017.5;\"yes\"',\n       'age;\"job\";\"marital\";\"education\";\"default\";\"housing\";\"loan\";\"contact\";\"month\";\"day_of_week\";\"duration\";\"campaign\";\"pdays\";\"previous\";\"poutcome\";\"emp.var.rate\";\"cons.price.idx\";\"cons.conf.idx\";\"euribor3m\";\"nr.employed\";\"y\"_17;\"student\";\"single\";\"unknown\";\"no\";\"yes\";\"no\";\"cellular\";\"aug\";\"wed\";432;3;4;2;\"success\";-2.9;92.201;-31.4;0.884;5076.2;\"no\"',\n       'age;\"job\";\"marital\";\"education\";\"default\";\"housing\";\"loan\";\"contact\";\"month\";\"day_of_week\";\"duration\";\"campaign\";\"pdays\";\"previous\";\"poutcome\";\"emp.var.rate\";\"cons.price.idx\";\"cons.conf.idx\";\"euribor3m\";\"nr.employed\";\"y\"_18;\"student\";\"single\";\"basic.4y\";\"no\";\"no\";\"no\";\"cellular\";\"apr\";\"thu\";108;1;999;0;\"nonexistent\";-1.8;93.075;-47.1;1.365;5099.1;\"no\"',\n       'age;\"job\";\"marital\";\"education\";\"default\";\"housing\";\"loan\";\"contact\";\"month\";\"day_of_week\";\"duration\";\"campaign\";\"pdays\";\"previous\";\"poutcome\";\"emp.var.rate\";\"cons.price.idx\";\"cons.conf.idx\";\"euribor3m\";\"nr.employed\";\"y\"_18;\"student\";\"single\";\"basic.4y\";\"no\";\"yes\";\"no\";\"cellular\";\"jun\";\"tue\";154;1;999;0;\"nonexistent\";-1.7;94.055;-39.8;0.737;4991.6;\"no\"',\n       'age;\"job\";\"marital\";\"education\";\"default\";\"housing\";\"loan\";\"contact\";\"month\";\"day_of_week\";\"duration\";\"campaign\";\"pdays\";\"previous\";\"poutcome\";\"emp.var.rate\";\"cons.price.idx\";\"cons.conf.idx\";\"euribor3m\";\"nr.employed\";\"y\"_18;\"student\";\"single\";\"basic.4y\";\"no\";\"yes\";\"no\";\"telephone\";\"nov\";\"tue\";394;1;13;2;\"success\";-1.1;94.767;-50.8;1.049;4963.6;\"yes\"',\n       'age;\"job\";\"marital\";\"education\";\"default\";\"housing\";\"loan\";\"contact\";\"month\";\"day_of_week\";\"duration\";\"campaign\";\"pdays\";\"previous\";\"poutcome\";\"emp.var.rate\";\"cons.price.idx\";\"cons.conf.idx\";\"euribor3m\";\"nr.employed\";\"y\"_18;\"student\";\"single\";\"basic.4y\";\"no\";\"yes\";\"yes\";\"cellular\";\"apr\";\"thu\";184;2;999;0;\"nonexistent\";-1.8;93.075;-47.1;1.365;5099.1;\"no\"',\n       'age;\"job\";\"marital\";\"education\";\"default\";\"housing\";\"loan\";\"contact\";\"month\";\"day_of_week\";\"duration\";\"campaign\";\"pdays\";\"previous\";\"poutcome\";\"emp.var.rate\";\"cons.price.idx\";\"cons.conf.idx\";\"euribor3m\";\"nr.employed\";\"y\"_18;\"student\";\"single\";\"basic.6y\";\"no\";\"no\";\"yes\";\"cellular\";\"oct\";\"fri\";368;2;999;0;\"nonexistent\";-3.4;92.431;-26.9;0.72;5017.5;\"yes\"',\n       'age;\"job\";\"marital\";\"education\";\"default\";\"housing\";\"loan\";\"contact\";\"month\";\"day_of_week\";\"duration\";\"campaign\";\"pdays\";\"previous\";\"poutcome\";\"emp.var.rate\";\"cons.price.idx\";\"cons.conf.idx\";\"euribor3m\";\"nr.employed\";\"y\"_18;\"student\";\"single\";\"basic.6y\";\"no\";\"yes\";\"no\";\"cellular\";\"aug\";\"mon\";628;1;999;0;\"nonexistent\";-2.9;92.201;-31.4;0.861;5076.2;\"no\"',\n       ...\n       'age;\"job\";\"marital\";\"education\";\"default\";\"housing\";\"loan\";\"contact\";\"month\";\"day_of_week\";\"duration\";\"campaign\";\"pdays\";\"previous\";\"poutcome\";\"emp.var.rate\";\"cons.price.idx\";\"cons.conf.idx\";\"euribor3m\";\"nr.employed\";\"y\"_91;\"retired\";\"married\";\"university.degree\";\"no\";\"no\";\"yes\";\"cellular\";\"sep\";\"wed\";223;2;999;0;\"nonexistent\";-3.4;92.379;-29.8;0.781;5017.5;\"no\"',\n       'age;\"job\";\"marital\";\"education\";\"default\";\"housing\";\"loan\";\"contact\";\"month\";\"day_of_week\";\"duration\";\"campaign\";\"pdays\";\"previous\";\"poutcome\";\"emp.var.rate\";\"cons.price.idx\";\"cons.conf.idx\";\"euribor3m\";\"nr.employed\";\"y\"_91;\"retired\";\"married\";\"university.degree\";\"no\";\"yes\";\"yes\";\"cellular\";\"sep\";\"wed\";837;1;999;2;\"failure\";-3.4;92.379;-29.8;0.781;5017.5;\"no\"',\n       'age;\"job\";\"marital\";\"education\";\"default\";\"housing\";\"loan\";\"contact\";\"month\";\"day_of_week\";\"duration\";\"campaign\";\"pdays\";\"previous\";\"poutcome\";\"emp.var.rate\";\"cons.price.idx\";\"cons.conf.idx\";\"euribor3m\";\"nr.employed\";\"y\"_92;\"retired\";\"divorced\";\"unknown\";\"unknown\";\"no\";\"no\";\"cellular\";\"may\";\"wed\";405;3;999;1;\"failure\";-1.8;93.876;-40;0.697;5008.7;\"yes\"',\n       'age;\"job\";\"marital\";\"education\";\"default\";\"housing\";\"loan\";\"contact\";\"month\";\"day_of_week\";\"duration\";\"campaign\";\"pdays\";\"previous\";\"poutcome\";\"emp.var.rate\";\"cons.price.idx\";\"cons.conf.idx\";\"euribor3m\";\"nr.employed\";\"y\"_92;\"retired\";\"married\";\"unknown\";\"no\";\"no\";\"yes\";\"cellular\";\"aug\";\"tue\";1064;1;3;1;\"success\";-1.7;94.027;-38.3;0.904;4991.6;\"yes\"',\n       'age;\"job\";\"marital\";\"education\";\"default\";\"housing\";\"loan\";\"contact\";\"month\";\"day_of_week\";\"duration\";\"campaign\";\"pdays\";\"previous\";\"poutcome\";\"emp.var.rate\";\"cons.price.idx\";\"cons.conf.idx\";\"euribor3m\";\"nr.employed\";\"y\"_92;\"retired\";\"married\";\"unknown\";\"no\";\"no\";\"yes\";\"cellular\";\"aug\";\"wed\";370;1;3;4;\"success\";-1.7;94.027;-38.3;0.903;4991.6;\"yes\"',\n       'age;\"job\";\"marital\";\"education\";\"default\";\"housing\";\"loan\";\"contact\";\"month\";\"day_of_week\";\"duration\";\"campaign\";\"pdays\";\"previous\";\"poutcome\";\"emp.var.rate\";\"cons.price.idx\";\"cons.conf.idx\";\"euribor3m\";\"nr.employed\";\"y\"_92;\"retired\";\"married\";\"unknown\";\"no\";\"yes\";\"no\";\"cellular\";\"may\";\"thu\";271;1;6;2;\"success\";-1.8;93.876;-40;0.683;5008.7;\"no\"',\n       'age;\"job\";\"marital\";\"education\";\"default\";\"housing\";\"loan\";\"contact\";\"month\";\"day_of_week\";\"duration\";\"campaign\";\"pdays\";\"previous\";\"poutcome\";\"emp.var.rate\";\"cons.price.idx\";\"cons.conf.idx\";\"euribor3m\";\"nr.employed\";\"y\"_94;\"retired\";\"married\";\"basic.9y\";\"no\";\"no\";\"no\";\"cellular\";\"nov\";\"wed\";134;1;999;1;\"failure\";-3.4;92.649;-30.1;0.716;5017.5;\"no\"',\n       'age;\"job\";\"marital\";\"education\";\"default\";\"housing\";\"loan\";\"contact\";\"month\";\"day_of_week\";\"duration\";\"campaign\";\"pdays\";\"previous\";\"poutcome\";\"emp.var.rate\";\"cons.price.idx\";\"cons.conf.idx\";\"euribor3m\";\"nr.employed\";\"y\"_95;\"retired\";\"divorced\";\"basic.6y\";\"no\";\"no\";\"no\";\"cellular\";\"mar\";\"thu\";85;1;999;0;\"nonexistent\";-1.8;92.843;-50;1.65;5099.1;\"no\"',\n       'age;\"job\";\"marital\";\"education\";\"default\";\"housing\";\"loan\";\"contact\";\"month\";\"day_of_week\";\"duration\";\"campaign\";\"pdays\";\"previous\";\"poutcome\";\"emp.var.rate\";\"cons.price.idx\";\"cons.conf.idx\";\"euribor3m\";\"nr.employed\";\"y\"_98;\"retired\";\"married\";\"basic.4y\";\"unknown\";\"yes\";\"no\";\"cellular\";\"oct\";\"fri\";272;2;999;0;\"nonexistent\";-3.4;92.431;-26.9;0.73;5017.5;\"yes\"',\n       'age;\"job\";\"marital\";\"education\";\"default\";\"housing\";\"loan\";\"contact\";\"month\";\"day_of_week\";\"duration\";\"campaign\";\"pdays\";\"previous\";\"poutcome\";\"emp.var.rate\";\"cons.price.idx\";\"cons.conf.idx\";\"euribor3m\";\"nr.employed\";\"y\"_98;\"retired\";\"married\";\"basic.4y\";\"unknown\";\"yes\";\"no\";\"cellular\";\"oct\";\"fri\";476;1;2;2;\"success\";-3.4;92.431;-26.9;0.73;5017.5;\"yes\"'],\n      dtype='object', length=41175)\n",
          "output_type": "stream"
        }
      ]
    },
    {
      "cell_type": "code",
      "source": [
        "# Assuming the target variable name is 'y'\n",
        "data_encoded = data_encoded.rename(columns={data_encoded.columns[0]: 'y'})\n",
        "\n",
        "# Define the feature matrix X (excluding the target variable column)\n",
        "X = data_encoded.drop('y', axis=1)\n",
        "\n",
        "# Define the target vector y\n",
        "y = data_encoded['y']\n"
      ],
      "metadata": {
        "execution": {
          "iopub.status.busy": "2024-05-27T15:12:00.504256Z",
          "iopub.execute_input": "2024-05-27T15:12:00.504631Z",
          "iopub.status.idle": "2024-05-27T15:12:01.667348Z",
          "shell.execute_reply.started": "2024-05-27T15:12:00.504573Z",
          "shell.execute_reply": "2024-05-27T15:12:01.66647Z"
        },
        "trusted": true,
        "id": "y90dMealnv2l"
      },
      "execution_count": null,
      "outputs": []
    },
    {
      "cell_type": "code",
      "source": [
        "\n",
        "# Assuming 'data_encoded' is your DataFrame containing the dataset\n",
        "# Extract the target variable column\n",
        "y = data_encoded['y']\n",
        "\n",
        "# Ensure the target variable is encoded as 0s and 1s (if not already)\n",
        "# For example, if 'yes' and 'no' are the labels, we can encode 'yes' as 1 and 'no' as 0\n",
        "y_binary = y.map({'yes': 1, 'no': 0})\n",
        "\n",
        "# Convert the target variable column into a 1-dimensional array\n",
        "y_train = y_binary.values\n",
        "\n",
        "# Verify the shape of y_train\n",
        "print(y_train.shape)\n"
      ],
      "metadata": {
        "execution": {
          "iopub.status.busy": "2024-05-27T15:12:01.668701Z",
          "iopub.execute_input": "2024-05-27T15:12:01.669161Z",
          "iopub.status.idle": "2024-05-27T15:12:01.682093Z",
          "shell.execute_reply.started": "2024-05-27T15:12:01.669105Z",
          "shell.execute_reply": "2024-05-27T15:12:01.681167Z"
        },
        "trusted": true,
        "id": "1ktSVcSMnv2m",
        "outputId": "9bf416b9-ac12-4507-8b1c-baa37c4a9ba8"
      },
      "execution_count": null,
      "outputs": [
        {
          "name": "stdout",
          "text": "(41188,)\n",
          "output_type": "stream"
        }
      ]
    },
    {
      "cell_type": "code",
      "source": [
        "from sklearn.linear_model import LogisticRegression\n",
        "from sklearn.model_selection import train_test_split\n",
        "\n",
        "# Split the data into features (X) and target variable (y)\n",
        "X = data_encoded.drop('y', axis=1)\n",
        "y = data_encoded['y']\n",
        "\n",
        "# Split the data into training and testing sets\n",
        "X_train, X_test, y_train, y_test = train_test_split(X, y, test_size=0.2, random_state=42)\n",
        "\n",
        "# Initialize the logistic regression model\n",
        "model = LogisticRegression()\n",
        "\n",
        "# Fit the model on the training data\n",
        "model.fit(X_train, y_train)\n",
        "\n",
        "# Example: Predict on the test set\n",
        "y_pred = model.predict(X_test)\n",
        "\n",
        "# Example: Evaluate the model\n",
        "accuracy = model.score(X_test, y_test)\n",
        "print(\"Accuracy:\", accuracy)\n"
      ],
      "metadata": {
        "execution": {
          "iopub.status.busy": "2024-05-27T15:12:01.683234Z",
          "iopub.execute_input": "2024-05-27T15:12:01.683506Z",
          "iopub.status.idle": "2024-05-27T15:12:43.194154Z",
          "shell.execute_reply.started": "2024-05-27T15:12:01.683476Z",
          "shell.execute_reply": "2024-05-27T15:12:43.192926Z"
        },
        "trusted": true,
        "id": "muXc8l7Pnv2m",
        "outputId": "2a3f628c-98ee-433f-eef9-3c28b3c2f464"
      },
      "execution_count": null,
      "outputs": [
        {
          "name": "stdout",
          "text": "Accuracy: 1.0\n",
          "output_type": "stream"
        }
      ]
    }
  ]
}